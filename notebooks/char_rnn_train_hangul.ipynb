{
 "cells": [
  {
   "cell_type": "markdown",
   "metadata": {},
   "source": [
    "# TRAIN HANGUL-RNN"
   ]
  },
  {
   "cell_type": "code",
   "execution_count": 1,
   "metadata": {
    "collapsed": false
   },
   "outputs": [
    {
     "name": "stdout",
     "output_type": "stream",
     "text": [
      "Packages Imported\n"
     ]
    }
   ],
   "source": [
    "# -*- coding: utf-8 -*-\n",
    "# Import Packages\n",
    "import numpy as np\n",
    "import tensorflow as tf\n",
    "import collections\n",
    "import argparse\n",
    "import time\n",
    "import os\n",
    "import hgtk\n",
    "\n",
    "from six.moves import cPickle\n",
    "from TextLoader import *\n",
    "\n",
    "print (\"Packages Imported\")"
   ]
  },
  {
   "cell_type": "markdown",
   "metadata": {},
   "source": [
    "# LOAD DATASET WITH TEXTLOADER"
   ]
  },
  {
   "cell_type": "code",
   "execution_count": 2,
   "metadata": {
    "collapsed": false,
    "scrolled": false
   },
   "outputs": [
    {
     "name": "stdout",
     "output_type": "stream",
     "text": [
      "loading preprocessed files\n"
     ]
    }
   ],
   "source": [
    "data_dir    = \"data/nine_dreams\"\n",
    "batch_size  = 50\n",
    "seq_length  = 50\n",
    "data_loader = TextLoader(data_dir, batch_size, seq_length)\n",
    "# This makes \"vocab.pkl\" and \"data.npy\" in \"data/nine_dreams\"   \n",
    "#  from \"data/nine_dreams/input.txt\" "
   ]
  },
  {
   "cell_type": "markdown",
   "metadata": {},
   "source": [
    "# VOCAB AND CHARS"
   ]
  },
  {
   "cell_type": "code",
   "execution_count": 3,
   "metadata": {
    "collapsed": false
   },
   "outputs": [
    {
     "name": "stdout",
     "output_type": "stream",
     "text": [
      "type of 'data_loader.vocab' is <class 'dict'>, length is 76\n",
      "type of 'data_loader.chars' is <class 'tuple'>, length is 76\n"
     ]
    }
   ],
   "source": [
    "vocab_size = data_loader.vocab_size\n",
    "vocab = data_loader.vocab\n",
    "chars = data_loader.chars\n",
    "print ( \"type of 'data_loader.vocab' is %s, length is %d\" \n",
    "       % (type(data_loader.vocab), len(data_loader.vocab)) )\n",
    "print ( \"type of 'data_loader.chars' is %s, length is %d\" \n",
    "       % (type(data_loader.chars), len(data_loader.chars)) )"
   ]
  },
  {
   "cell_type": "markdown",
   "metadata": {},
   "source": [
    "# VOCAB: DICTIONARY (CHAR->INDEX)"
   ]
  },
  {
   "cell_type": "code",
   "execution_count": 4,
   "metadata": {
    "collapsed": false,
    "scrolled": true
   },
   "outputs": [
    {
     "name": "stdout",
     "output_type": "stream",
     "text": [
      "{' ': 1, 'ㅇ': 2, 'ㄱ': 7, 'ㅔ': 20, 'ㅋ': 42, 'ㄲ': 29, 'ㅢ': 25, '-': 65, 'ㄹ': 5, '\\x1a': 72, 'ㅈ': 15, 'ㅖ': 39, 'ㅐ': 21, '?': 41, ':': 57, '3': 66, '.': 24, 'ㅅ': 10, 'ㅍ': 31, '1': 58, 'ㅚ': 33, 'ㅄ': 43, '7': 71, 'ㄴ': 4, '5': 63, 'ㄿ': 56, '2': 62, 'ᴥ': 0, 'ㅏ': 3, 'ㅑ': 34, 'ㅀ': 51, 'ㅟ': 35, '6': 59, 'ㅆ': 22, 'ㄳ': 60, 'ㅂ': 17, 'ㅕ': 18, '(': 45, 'ㅞ': 61, 'ㅓ': 11, 'ㅡ': 8, '\"': 28, 'ㅊ': 23, '!': 52, 'ㅒ': 74, '>': 75, 'ㅗ': 9, 'ㅃ': 47, 'ㅘ': 26, 'ㅝ': 36, '0': 73, '\\n': 19, '4': 67, 'ㅌ': 30, 'ㅙ': 53, 'ㄻ': 55, 'ㄵ': 50, \"'\": 49, ',': 27, 'ㅠ': 37, '9': 64, 'ㅎ': 14, '_': 69, 'ㄶ': 44, 'ㅣ': 6, 'ㅁ': 12, 'ㄺ': 48, 'ㅜ': 16, 'ㅛ': 38, '8': 68, 'ㄾ': 70, ')': 46, 'ㅉ': 40, 'ㄸ': 32, 'ㄷ': 13, 'ㄼ': 54}\n"
     ]
    }
   ],
   "source": [
    "print (data_loader.vocab)"
   ]
  },
  {
   "cell_type": "markdown",
   "metadata": {},
   "source": [
    "# CHARS: LIST (INDEX->CHAR)"
   ]
  },
  {
   "cell_type": "code",
   "execution_count": 5,
   "metadata": {
    "collapsed": false
   },
   "outputs": [
    {
     "name": "stdout",
     "output_type": "stream",
     "text": [
      "('ᴥ', ' ', 'ㅇ', 'ㅏ', 'ㄴ', 'ㄹ', 'ㅣ', 'ㄱ', 'ㅡ', 'ㅗ', 'ㅅ', 'ㅓ', 'ㅁ', 'ㄷ', 'ㅎ', 'ㅈ', 'ㅜ', 'ㅂ', 'ㅕ', '\\n', 'ㅔ', 'ㅐ', 'ㅆ', 'ㅊ', '.', 'ㅢ', 'ㅘ', ',', '\"', 'ㄲ', 'ㅌ', 'ㅍ', 'ㄸ', 'ㅚ', 'ㅑ', 'ㅟ', 'ㅝ', 'ㅠ', 'ㅛ', 'ㅖ', 'ㅉ', '?', 'ㅋ', 'ㅄ', 'ㄶ', '(', ')', 'ㅃ', 'ㄺ', \"'\", 'ㄵ', 'ㅀ', '!', 'ㅙ', 'ㄼ', 'ㄻ', 'ㄿ', ':', '1', '6', 'ㄳ', 'ㅞ', '2', '5', '9', '-', '3', '4', '8', '_', 'ㄾ', '7', '\\x1a', '0', 'ㅒ', '>')\n",
      "ᴥ\n"
     ]
    }
   ],
   "source": [
    "print (data_loader.chars)\n",
    "# USAGE\n",
    "print (data_loader.chars[0])"
   ]
  },
  {
   "cell_type": "markdown",
   "metadata": {},
   "source": [
    "# TRAINING BATCH (IMPORTANT!!)"
   ]
  },
  {
   "cell_type": "code",
   "execution_count": 6,
   "metadata": {
    "collapsed": false
   },
   "outputs": [
    {
     "name": "stdout",
     "output_type": "stream",
     "text": [
      "Type of 'x' is <class 'numpy.ndarray'>. Shape is (50, 50)\n",
      "x looks like \n",
      "[[19 19  1 ..., 23  0  4]\n",
      " [ 1 19 42 ...,  6  0  2]\n",
      " [ 2  8  0 ..., 19  1  1]\n",
      " ..., \n",
      " [ 1  7  8 ...,  2  6  0]\n",
      " [ 6  4  0 ..., 17  9  7]\n",
      " [ 1 19 17 ..., 17 16  5]]\n",
      "Type of 'y' is <class 'numpy.ndarray'>. Shape is (50, 50)\n",
      "y looks like \n",
      "[[19  1  1 ...,  0  4  3]\n",
      " [19 42 11 ...,  0  2 20]\n",
      " [ 8  0  5 ...,  1  1 10]\n",
      " ..., \n",
      " [ 7  8  0 ...,  6  0  1]\n",
      " [ 4  0 12 ...,  9  7  0]\n",
      " [19 17 16 ..., 16  5  0]]\n"
     ]
    }
   ],
   "source": [
    "x, y = data_loader.next_batch()\n",
    "print (\"Type of 'x' is %s. Shape is %s\" % (type(x), x.shape,))\n",
    "print (\"x looks like \\n%s\" % (x))\n",
    "print\n",
    "print (\"Type of 'y' is %s. Shape is %s\" % (type(y), y.shape,))\n",
    "print (\"y looks like \\n%s\" % (y))"
   ]
  },
  {
   "cell_type": "markdown",
   "metadata": {},
   "source": [
    "# DEFINE A MULTILAYER LSTM NETWORK"
   ]
  },
  {
   "cell_type": "code",
   "execution_count": 7,
   "metadata": {
    "collapsed": false
   },
   "outputs": [
    {
     "name": "stdout",
     "output_type": "stream",
     "text": [
      "Network ready\n"
     ]
    }
   ],
   "source": [
    "rnn_size   = 512\n",
    "num_layers = 3\n",
    "grad_clip  = 5. # <= GRADIENT CLIPPING (PRACTICALLY IMPORTANT)\n",
    "vocab_size = data_loader.vocab_size\n",
    "\n",
    "tf.reset_default_graph()\n",
    "\n",
    "# SELECT RNN CELL (MULTI LAYER LSTM)\n",
    "unitcell = tf.contrib.rnn.BasicLSTMCell(rnn_size)\n",
    "cell = tf.contrib.rnn.MultiRNNCell([unitcell] * num_layers)\n",
    "\n",
    "# Set paths to the graph\n",
    "input_data = tf.placeholder(tf.int32, [batch_size, seq_length])\n",
    "targets    = tf.placeholder(tf.int32, [batch_size, seq_length])\n",
    "initial_state = cell.zero_state(batch_size, tf.float32)\n",
    "\n",
    "# Set Network\n",
    "with tf.variable_scope('rnnlm'):\n",
    "    softmax_w = tf.get_variable(\"softmax_w\", [rnn_size, vocab_size])\n",
    "    softmax_b = tf.get_variable(\"softmax_b\", [vocab_size])\n",
    "    with tf.device(\"/cpu:0\"):\n",
    "        embedding = tf.get_variable(\"embedding\", [vocab_size, rnn_size])\n",
    "        inputs = tf.split(tf.nn.embedding_lookup(\n",
    "                embedding, input_data), seq_length, 1)\n",
    "        inputs = [tf.squeeze(input_, [1]) for input_ in inputs]\n",
    "        \n",
    "print (\"Network ready\")"
   ]
  },
  {
   "cell_type": "markdown",
   "metadata": {},
   "source": [
    "# Define functions"
   ]
  },
  {
   "cell_type": "code",
   "execution_count": 8,
   "metadata": {
    "collapsed": false
   },
   "outputs": [
    {
     "name": "stdout",
     "output_type": "stream",
     "text": [
      "FUNCTIONS READY\n"
     ]
    }
   ],
   "source": [
    "# Output of RNN\n",
    "outputs, last_state = tf.contrib.legacy_seq2seq.rnn_decoder(inputs, initial_state\n",
    "                        , cell, loop_function=None, scope='rnnlm')\n",
    "output = tf.reshape(tf.concat(outputs, 1), [-1, rnn_size])\n",
    "logits = tf.nn.xw_plus_b(output, softmax_w, softmax_b)\n",
    "\n",
    "# Next word probability\n",
    "probs = tf.nn.softmax(logits)\n",
    "print (\"FUNCTIONS READY\")"
   ]
  },
  {
   "cell_type": "markdown",
   "metadata": {},
   "source": [
    "# DEFINE LOSS FUNCTION "
   ]
  },
  {
   "cell_type": "code",
   "execution_count": 9,
   "metadata": {
    "collapsed": false
   },
   "outputs": [
    {
     "name": "stdout",
     "output_type": "stream",
     "text": [
      "LOSS FUNCTION\n"
     ]
    }
   ],
   "source": [
    "loss = tf.contrib.legacy_seq2seq.sequence_loss_by_example([logits], # Input\n",
    "    [tf.reshape(targets, [-1])], # Target\n",
    "    [tf.ones([batch_size * seq_length])], # Weight\n",
    "    vocab_size)\n",
    "print (\"LOSS FUNCTION\")"
   ]
  },
  {
   "cell_type": "markdown",
   "metadata": {},
   "source": [
    "# DEFINE COST FUNCTION "
   ]
  },
  {
   "cell_type": "code",
   "execution_count": null,
   "metadata": {
    "collapsed": false
   },
   "outputs": [
    {
     "name": "stdout",
     "output_type": "stream",
     "text": [
      "NETWORK READY\n"
     ]
    }
   ],
   "source": [
    "cost = tf.reduce_sum(loss) / batch_size / seq_length\n",
    "\n",
    "# GRADIENT CLIPPING ! \n",
    "lr = tf.Variable(0.0, trainable=False) # <= LEARNING RATE \n",
    "tvars = tf.trainable_variables()\n",
    "grads, _ = tf.clip_by_global_norm(tf.gradients(cost, tvars), grad_clip)\n",
    "_optm = tf.train.AdamOptimizer(lr)\n",
    "optm = _optm.apply_gradients(zip(grads, tvars))\n",
    "\n",
    "final_state = last_state\n",
    "print (\"NETWORK READY\")"
   ]
  },
  {
   "cell_type": "markdown",
   "metadata": {},
   "source": [
    "# OPTIMIZE NETWORK WITH LR SCHEDULING"
   ]
  },
  {
   "cell_type": "code",
   "execution_count": null,
   "metadata": {
    "collapsed": false,
    "scrolled": true
   },
   "outputs": [
    {
     "name": "stdout",
     "output_type": "stream",
     "text": [
      "0/99500 (epoch: 0), loss: 4.319, time/batch: 5.531\n",
      "model saved to data/nine_dreams/model.ckpt\n",
      "100/99500 (epoch: 0), loss: 2.949, time/batch: 3.866\n"
     ]
    }
   ],
   "source": [
    "num_epochs    = 500\n",
    "save_every    = 1000\n",
    "learning_rate = 0.0002\n",
    "decay_rate    = 0.97\n",
    "\n",
    "save_dir = 'data/nine_dreams'\n",
    "sess = tf.Session()\n",
    "sess.run(tf.global_variables_initializer())\n",
    "summary_writer = tf.summary.FileWriter(save_dir, graph=sess.graph)\n",
    "saver = tf.train.Saver(tf.global_variables())\n",
    "for e in range(num_epochs): # for all epochs\n",
    "\n",
    "    # LEARNING RATE SCHEDULING \n",
    "    sess.run(tf.assign(lr, learning_rate * (decay_rate ** e)))\n",
    "\n",
    "    data_loader.reset_batch_pointer()\n",
    "    state = sess.run(initial_state)\n",
    "    for b in range(data_loader.num_batches):\n",
    "        start = time.time()\n",
    "        x, y = data_loader.next_batch()\n",
    "        feed = {input_data: x, targets: y, initial_state: state}\n",
    "        # Train!\n",
    "        train_loss, state, _ = sess.run([cost, final_state, optm], feed)\n",
    "        end = time.time()\n",
    "        # PRINT \n",
    "        if b % 100 == 0:\n",
    "            print (\"%d/%d (epoch: %d), loss: %.3f, time/batch: %.3f\"  \n",
    "                   % (e * data_loader.num_batches + b\n",
    "                    , num_epochs * data_loader.num_batches\n",
    "                    , e, train_loss, end - start))\n",
    "        # SAVE MODEL\n",
    "        if (e * data_loader.num_batches + b) % save_every == 0:\n",
    "            checkpoint_path = os.path.join(save_dir, 'model.ckpt')\n",
    "            saver.save(sess, checkpoint_path\n",
    "                       , global_step = e * data_loader.num_batches + b)\n",
    "            print(\"model saved to {}\".format(checkpoint_path))"
   ]
  },
  {
   "cell_type": "code",
   "execution_count": null,
   "metadata": {
    "collapsed": true
   },
   "outputs": [],
   "source": [
    "# IT TAKE A LOOOOOOOOT OF TIME"
   ]
  }
 ],
 "metadata": {
  "kernelspec": {
   "display_name": "Python 3",
   "language": "python",
   "name": "python3"
  },
  "language_info": {
   "codemirror_mode": {
    "name": "ipython",
    "version": 3
   },
   "file_extension": ".py",
   "mimetype": "text/x-python",
   "name": "python",
   "nbconvert_exporter": "python",
   "pygments_lexer": "ipython3",
   "version": "3.5.2"
  }
 },
 "nbformat": 4,
 "nbformat_minor": 0
}
