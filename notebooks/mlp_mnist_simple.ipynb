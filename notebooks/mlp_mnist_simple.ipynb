{
 "cells": [
  {
   "cell_type": "code",
   "execution_count": 1,
   "metadata": {
    "collapsed": true
   },
   "outputs": [],
   "source": [
    "\"\"\"\n",
    " Simple Multi-Layer Pecptron with MNIST\n",
    " @Sungjoon Choi (sungjoon.choi@cpslab.snu.ac.kr)\n",
    "\"\"\"\n",
    "import numpy as np\n",
    "import tensorflow as tf\n",
    "import matplotlib.pyplot as plt\n",
    "from tensorflow.examples.tutorials.mnist import input_data\n",
    "%matplotlib inline  "
   ]
  },
  {
   "cell_type": "code",
   "execution_count": 2,
   "metadata": {
    "collapsed": false
   },
   "outputs": [
    {
     "name": "stdout",
     "output_type": "stream",
     "text": [
      "Extracting data/train-images-idx3-ubyte.gz\n",
      "Extracting data/train-labels-idx1-ubyte.gz\n",
      "Extracting data/t10k-images-idx3-ubyte.gz\n",
      "Extracting data/t10k-labels-idx1-ubyte.gz\n"
     ]
    }
   ],
   "source": [
    "# MNIST\n",
    "mnist = input_data.read_data_sets('data/', one_hot=True)"
   ]
  },
  {
   "cell_type": "code",
   "execution_count": 3,
   "metadata": {
    "collapsed": false
   },
   "outputs": [
    {
     "name": "stdout",
     "output_type": "stream",
     "text": [
      "Network Ready\n"
     ]
    }
   ],
   "source": [
    "# Parameters\n",
    "learning_rate   = 0.001\n",
    "training_epochs = 50\n",
    "batch_size      = 100\n",
    "display_step    = 1\n",
    "\n",
    "# Network Parameters\n",
    "n_hidden_1 = 256 # 1st layer num features\n",
    "n_hidden_2 = 256 # 2nd layer num features\n",
    "n_input    = 784 # MNIST data input (img shape: 28*28)\n",
    "n_classes  = 10 # MNIST total classes (0-9 digits)\n",
    "\n",
    "# tf Graph input\n",
    "x = tf.placeholder(\"float\", [None, n_input])\n",
    "y = tf.placeholder(\"float\", [None, n_classes])\n",
    "\n",
    "# Create model\n",
    "def multilayer_perceptron(_X, _weights, _biases):\n",
    "    layer_1 = tf.nn.sigmoid(tf.add(tf.matmul(_X, _weights['h1']), _biases['b1'])) \n",
    "    layer_2 = tf.nn.sigmoid(tf.add(tf.matmul(layer_1, _weights['h2']), _biases['b2']))\n",
    "    return (tf.matmul(layer_2, _weights['out']) + _biases['out'])\n",
    "    \n",
    "# Store layers weight & bias\n",
    "stddev = 0.1 # <== This greatly affects accuracy!! \n",
    "weights = {\n",
    "    'h1': tf.Variable(tf.random_normal([n_input, n_hidden_1], stddev=stddev)),\n",
    "    'h2': tf.Variable(tf.random_normal([n_hidden_1, n_hidden_2], stddev=stddev)),\n",
    "    'out': tf.Variable(tf.random_normal([n_hidden_2, n_classes], stddev=stddev))\n",
    "}\n",
    "biases = {\n",
    "    'b1': tf.Variable(tf.random_normal([n_hidden_1])),\n",
    "    'b2': tf.Variable(tf.random_normal([n_hidden_2])),\n",
    "    'out': tf.Variable(tf.random_normal([n_classes]))\n",
    "}\n",
    "\n",
    "# Construct model\n",
    "pred = multilayer_perceptron(x, weights, biases)\n",
    "\n",
    "# Define loss and optimizer\n",
    "cost = tf.reduce_mean(tf.nn.softmax_cross_entropy_with_logits(pred, y)) # Softmax loss\n",
    "optimizer = tf.train.AdamOptimizer(learning_rate=learning_rate).minimize(cost) # Adam Optimizer\n",
    "\n",
    "correct_prediction = tf.equal(tf.argmax(pred, 1), tf.argmax(y, 1))    \n",
    "accuracy = tf.reduce_mean(tf.cast(correct_prediction, \"float\"))\n",
    "\n",
    "# Initializing the variables\n",
    "init = tf.initialize_all_variables()\n",
    "\n",
    "print (\"Network Ready\")"
   ]
  },
  {
   "cell_type": "code",
   "execution_count": 4,
   "metadata": {
    "collapsed": false,
    "scrolled": true
   },
   "outputs": [
    {
     "name": "stdout",
     "output_type": "stream",
     "text": [
      "Epoch: 000/050 cost: 1.666987332\n",
      "Training accuracy: 0.950\n",
      "Epoch: 001/050 cost: 1.536813083\n",
      "Training accuracy: 0.870\n",
      "Epoch: 002/050 cost: 1.516386761\n",
      "Training accuracy: 0.930\n",
      "Epoch: 003/050 cost: 1.505263023\n",
      "Training accuracy: 0.980\n",
      "Epoch: 004/050 cost: 1.497724962\n",
      "Training accuracy: 0.970\n",
      "Epoch: 005/050 cost: 1.491883940\n",
      "Training accuracy: 0.960\n",
      "Epoch: 006/050 cost: 1.487296648\n",
      "Training accuracy: 0.930\n",
      "Epoch: 007/050 cost: 1.483624449\n",
      "Training accuracy: 0.990\n",
      "Epoch: 008/050 cost: 1.480382613\n",
      "Training accuracy: 0.970\n",
      "Epoch: 009/050 cost: 1.478116826\n",
      "Training accuracy: 1.000\n",
      "Epoch: 010/050 cost: 1.475981076\n",
      "Training accuracy: 0.990\n",
      "Epoch: 011/050 cost: 1.474176666\n",
      "Training accuracy: 0.990\n",
      "Epoch: 012/050 cost: 1.472756294\n",
      "Training accuracy: 0.950\n",
      "Epoch: 013/050 cost: 1.471558682\n",
      "Training accuracy: 1.000\n",
      "Epoch: 014/050 cost: 1.470655612\n",
      "Training accuracy: 1.000\n",
      "Epoch: 015/050 cost: 1.469813540\n",
      "Training accuracy: 1.000\n",
      "Epoch: 016/050 cost: 1.469068468\n",
      "Training accuracy: 0.980\n",
      "Epoch: 017/050 cost: 1.468540349\n",
      "Training accuracy: 1.000\n",
      "Epoch: 018/050 cost: 1.467865356\n",
      "Training accuracy: 0.990\n",
      "Epoch: 019/050 cost: 1.467285401\n",
      "Training accuracy: 0.990\n",
      "Epoch: 020/050 cost: 1.466805388\n",
      "Training accuracy: 1.000\n",
      "Epoch: 021/050 cost: 1.466487185\n",
      "Training accuracy: 1.000\n",
      "Epoch: 022/050 cost: 1.466396528\n",
      "Training accuracy: 0.990\n",
      "Epoch: 023/050 cost: 1.465959578\n",
      "Training accuracy: 1.000\n",
      "Epoch: 024/050 cost: 1.465827873\n",
      "Training accuracy: 1.000\n",
      "Epoch: 025/050 cost: 1.465633523\n",
      "Training accuracy: 1.000\n",
      "Epoch: 026/050 cost: 1.465414041\n",
      "Training accuracy: 0.990\n",
      "Epoch: 027/050 cost: 1.465201864\n",
      "Training accuracy: 0.990\n",
      "Epoch: 028/050 cost: 1.465205780\n",
      "Training accuracy: 1.000\n",
      "Epoch: 029/050 cost: 1.465042110\n",
      "Training accuracy: 1.000\n",
      "Epoch: 030/050 cost: 1.464832126\n",
      "Training accuracy: 1.000\n",
      "Epoch: 031/050 cost: 1.464643225\n",
      "Training accuracy: 0.990\n",
      "Epoch: 032/050 cost: 1.464564405\n",
      "Training accuracy: 1.000\n",
      "Epoch: 033/050 cost: 1.464583749\n",
      "Training accuracy: 1.000\n",
      "Epoch: 034/050 cost: 1.464245718\n",
      "Training accuracy: 0.990\n",
      "Epoch: 035/050 cost: 1.464355295\n",
      "Training accuracy: 1.000\n",
      "Epoch: 036/050 cost: 1.464193466\n",
      "Training accuracy: 1.000\n",
      "Epoch: 037/050 cost: 1.464219880\n",
      "Training accuracy: 0.990\n",
      "Epoch: 038/050 cost: 1.464267183\n",
      "Training accuracy: 1.000\n",
      "Epoch: 039/050 cost: 1.464045600\n",
      "Training accuracy: 0.990\n",
      "Epoch: 040/050 cost: 1.463825793\n",
      "Training accuracy: 1.000\n",
      "Epoch: 041/050 cost: 1.463760140\n",
      "Training accuracy: 1.000\n",
      "Epoch: 042/050 cost: 1.463941404\n",
      "Training accuracy: 1.000\n",
      "Epoch: 043/050 cost: 1.463940869\n",
      "Training accuracy: 1.000\n",
      "Epoch: 044/050 cost: 1.463764272\n",
      "Training accuracy: 1.000\n",
      "Epoch: 045/050 cost: 1.463685244\n",
      "Training accuracy: 1.000\n",
      "Epoch: 046/050 cost: 1.463758745\n",
      "Training accuracy: 0.990\n",
      "Epoch: 047/050 cost: 1.463949429\n",
      "Training accuracy: 1.000\n",
      "Epoch: 048/050 cost: 1.463814727\n",
      "Training accuracy: 1.000\n",
      "Epoch: 049/050 cost: 1.463622518\n",
      "Training accuracy: 1.000\n",
      "Optimization Finished!\n"
     ]
    }
   ],
   "source": [
    "# Launch the graph\n",
    "sess = tf.Session()\n",
    "sess.run(init)\n",
    "\n",
    "# Training cycle\n",
    "for epoch in range(training_epochs):\n",
    "    avg_cost = 0.\n",
    "    total_batch = int(mnist.train.num_examples/batch_size)\n",
    "    # Loop over all batches\n",
    "    for i in range(total_batch):\n",
    "        batch_xs, batch_ys = mnist.train.next_batch(batch_size)\n",
    "        # Fit training using batch data\n",
    "        sess.run(optimizer, feed_dict={x: batch_xs, y: batch_ys})\n",
    "        # Compute average loss\n",
    "        avg_cost += sess.run(cost, feed_dict={x: batch_xs, y: batch_ys})/total_batch\n",
    "    # Display logs per epoch step\n",
    "    if epoch % display_step == 0:\n",
    "        print (\"Epoch: %03d/%03d cost: %.9f\" % (epoch, training_epochs, avg_cost))\n",
    "        train_acc = sess.run(accuracy, feed_dict={x: batch_xs, y: batch_ys})\n",
    "        print (\"Training accuracy: %.3f\" % (train_acc))\n",
    "\n",
    "print (\"Optimization Finished!\")\n"
   ]
  },
  {
   "cell_type": "code",
   "execution_count": 5,
   "metadata": {
    "collapsed": false
   },
   "outputs": [
    {
     "name": "stdout",
     "output_type": "stream",
     "text": [
      "Training accuracy: 0.980\n"
     ]
    }
   ],
   "source": [
    "test_acc = sess.run(accuracy, feed_dict={x: mnist.test.images, y: mnist.test.labels})\n",
    "print (\"Training accuracy: %.3f\" % (test_acc))"
   ]
  }
 ],
 "metadata": {
  "kernelspec": {
   "display_name": "Python 3",
   "language": "python",
   "name": "python3"
  },
  "language_info": {
   "codemirror_mode": {
    "name": "ipython",
    "version": 3
   },
   "file_extension": ".py",
   "mimetype": "text/x-python",
   "name": "python",
   "nbconvert_exporter": "python",
   "pygments_lexer": "ipython3",
   "version": "3.4.3"
  }
 },
 "nbformat": 4,
 "nbformat_minor": 0
}
