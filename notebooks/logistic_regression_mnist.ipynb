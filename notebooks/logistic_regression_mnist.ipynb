{
 "cells": [
  {
   "cell_type": "code",
   "execution_count": 1,
   "metadata": {
    "collapsed": true
   },
   "outputs": [],
   "source": [
    "\"\"\"\n",
    " Logistic Regression with MNIST\n",
    " @Sungjoon Choi (sungjoon.choi@cpslab.snu.ac.kr)\n",
    "\"\"\"\n",
    "import numpy as np\n",
    "import tensorflow as tf\n",
    "import matplotlib.pyplot as plt\n",
    "from tensorflow.examples.tutorials.mnist import input_data"
   ]
  },
  {
   "cell_type": "code",
   "execution_count": 2,
   "metadata": {
    "collapsed": false
   },
   "outputs": [
    {
     "name": "stdout",
     "output_type": "stream",
     "text": [
      "Extracting data/train-images-idx3-ubyte.gz\n",
      "Extracting data/train-labels-idx1-ubyte.gz\n",
      "Extracting data/t10k-images-idx3-ubyte.gz\n",
      "Extracting data/t10k-labels-idx1-ubyte.gz\n"
     ]
    }
   ],
   "source": [
    "# Download and Extract MNIST dataset\n",
    "mnist      = input_data.read_data_sets('data/', one_hot=True)\n",
    "trainimg   = mnist.train.images\n",
    "trainlabel = mnist.train.labels\n",
    "testimg    = mnist.test.images\n",
    "testlabel  = mnist.test.labels"
   ]
  },
  {
   "cell_type": "code",
   "execution_count": 3,
   "metadata": {
    "collapsed": true
   },
   "outputs": [],
   "source": [
    "# Parameters of Logistic Regression\n",
    "learning_rate   = 0.01\n",
    "training_epochs = 50\n",
    "batch_size      = 100\n",
    "display_step    = 1\n",
    "\n",
    "# Create Graph for Logistic Regression\n",
    "x = tf.placeholder(\"float\", [None, 784]) \n",
    "y = tf.placeholder(\"float\", [None, 10])  # None is for infinite or unspecified length\n",
    "W = tf.Variable(tf.zeros([784, 10]))\n",
    "b = tf.Variable(tf.zeros([10]))\n",
    "\n",
    "# Activation, Cost, and Optimizing functions\n",
    "activation = tf.nn.softmax(tf.matmul(x, W) + b) # Softmax\n",
    "\n",
    "cost = tf.reduce_mean(-tf.reduce_sum(y*tf.log(activation), reduction_indices=1)) # Cross entropy\n",
    "# cost = tf.reduce_mean(-tf.reduce_sum(y*tf.log(activation) + (1-y)*tf.log(1-activation), reduction_indices=1)) # Cross entropy\n",
    "# cost = tf.reduce_mean(tf.pow(activation-y, 2))\n",
    "\n",
    "# * is an element-wise product in numpy (in Matlab, it should be .*)\n",
    "optimizer = tf.train.GradientDescentOptimizer(learning_rate).minimize(cost) # Gradient Descent\n",
    "\n",
    "correct_prediction = tf.equal(tf.argmax(activation, 1), tf.argmax(y, 1))    \n",
    "accuracy = tf.reduce_mean(tf.cast(correct_prediction, \"float\"))\n",
    "\n",
    "# Optimize with TensorFlow\n",
    "# Initializing the variables\n",
    "init = tf.initialize_all_variables()"
   ]
  },
  {
   "cell_type": "code",
   "execution_count": 5,
   "metadata": {
    "collapsed": false,
    "scrolled": true
   },
   "outputs": [
    {
     "name": "stdout",
     "output_type": "stream",
     "text": [
      "Epoch: 000/050 cost: 1.179423396 train_acc: 0.820\n",
      "Epoch: 001/050 cost: 0.662798146 train_acc: 0.890\n",
      "Epoch: 002/050 cost: 0.550427766 train_acc: 0.890\n",
      "Epoch: 003/050 cost: 0.495555956 train_acc: 0.910\n",
      "Epoch: 004/050 cost: 0.469646059 train_acc: 0.870\n",
      "Epoch: 005/050 cost: 0.443701121 train_acc: 0.880\n",
      "Epoch: 006/050 cost: 0.424763993 train_acc: 0.870\n",
      "Epoch: 007/050 cost: 0.414103790 train_acc: 0.860\n",
      "Epoch: 008/050 cost: 0.393297261 train_acc: 0.910\n",
      "Epoch: 009/050 cost: 0.392616590 train_acc: 0.900\n",
      "Epoch: 010/050 cost: 0.382046940 train_acc: 0.910\n",
      "Epoch: 011/050 cost: 0.388520532 train_acc: 0.940\n",
      "Epoch: 012/050 cost: 0.375793427 train_acc: 0.850\n",
      "Epoch: 013/050 cost: 0.364166828 train_acc: 0.890\n",
      "Epoch: 014/050 cost: 0.357716803 train_acc: 0.870\n",
      "Epoch: 015/050 cost: 0.362236828 train_acc: 0.950\n",
      "Epoch: 016/050 cost: 0.353469679 train_acc: 0.880\n",
      "Epoch: 017/050 cost: 0.346149583 train_acc: 0.930\n",
      "Epoch: 018/050 cost: 0.350407640 train_acc: 0.870\n",
      "Epoch: 019/050 cost: 0.343601275 train_acc: 0.910\n",
      "Epoch: 020/050 cost: 0.337127733 train_acc: 0.920\n",
      "Epoch: 021/050 cost: 0.343824598 train_acc: 0.920\n",
      "Epoch: 022/050 cost: 0.330626728 train_acc: 0.910\n",
      "Epoch: 023/050 cost: 0.336021870 train_acc: 0.930\n",
      "Epoch: 024/050 cost: 0.334648467 train_acc: 0.870\n",
      "Epoch: 025/050 cost: 0.329040104 train_acc: 0.890\n",
      "Epoch: 026/050 cost: 0.325042125 train_acc: 0.890\n",
      "Epoch: 027/050 cost: 0.332821068 train_acc: 0.890\n",
      "Epoch: 028/050 cost: 0.326544240 train_acc: 0.890\n",
      "Epoch: 029/050 cost: 0.324197872 train_acc: 0.860\n",
      "Epoch: 030/050 cost: 0.320467672 train_acc: 0.920\n",
      "Epoch: 031/050 cost: 0.315113249 train_acc: 0.890\n",
      "Epoch: 032/050 cost: 0.312139927 train_acc: 0.930\n",
      "Epoch: 033/050 cost: 0.324849302 train_acc: 0.920\n",
      "Epoch: 034/050 cost: 0.322226714 train_acc: 0.870\n",
      "Epoch: 035/050 cost: 0.313848560 train_acc: 0.960\n",
      "Epoch: 036/050 cost: 0.310129104 train_acc: 0.890\n",
      "Epoch: 037/050 cost: 0.317025227 train_acc: 0.890\n",
      "Epoch: 038/050 cost: 0.314059467 train_acc: 0.890\n",
      "Epoch: 039/050 cost: 0.314106715 train_acc: 0.960\n",
      "Epoch: 040/050 cost: 0.310797156 train_acc: 0.910\n",
      "Epoch: 041/050 cost: 0.308460067 train_acc: 0.930\n",
      "Epoch: 042/050 cost: 0.308473984 train_acc: 0.930\n",
      "Epoch: 043/050 cost: 0.312841380 train_acc: 0.960\n",
      "Epoch: 044/050 cost: 0.305169167 train_acc: 0.940\n",
      "Epoch: 045/050 cost: 0.301651272 train_acc: 0.910\n",
      "Epoch: 046/050 cost: 0.305565220 train_acc: 0.920\n",
      "Epoch: 047/050 cost: 0.305396129 train_acc: 0.920\n",
      "Epoch: 048/050 cost: 0.301250974 train_acc: 0.960\n",
      "Epoch: 049/050 cost: 0.302268292 train_acc: 0.930\n",
      "Optimization Finished!\n",
      "Accuracy: 0.9184\n",
      "Done.\n"
     ]
    }
   ],
   "source": [
    "# Launch the graph\n",
    "with tf.Session() as sess:\n",
    "    sess.run(init)\n",
    "    n_train = trainimg.shape[0]\n",
    "\n",
    "    # Training cycle\n",
    "    for epoch in range(training_epochs):\n",
    "        avg_cost = 0.\n",
    "        num_batch = int(mnist.train.num_examples/batch_size)\n",
    "        randidx = np.random.permutation(n_train)\n",
    "        # Loop over all batches\n",
    "        for i in range(num_batch): \n",
    "            if 0: # Using tensorflow API\n",
    "                batch_xs, batch_ys = mnist.train.next_batch(batch_size)\n",
    "            else: # Random batch sampling \n",
    "                batch_xs = trainimg[randidx[i*batch_size:(i+1)*batch_size], :]\n",
    "                batch_ys = trainlabel[randidx[i*batch_size:(i+1)*batch_size], :]\n",
    "            \n",
    "            # Fit training using batch data\n",
    "            sess.run(optimizer, feed_dict={x: batch_xs, y: batch_ys})\n",
    "            # Compute average loss\n",
    "            avg_cost += sess.run(cost, feed_dict={x: batch_xs, y: batch_ys})/num_batch\n",
    "            \n",
    "        # Display logs per epoch step\n",
    "        if epoch % display_step == 0:\n",
    "            train_acc = accuracy.eval({x: batch_xs, y: batch_ys})\n",
    "            print (\"Epoch: %03d/%03d cost: %.9f train_acc: %.3f\" \n",
    "                   % (epoch, training_epochs, avg_cost, train_acc))\n",
    "\n",
    "    print (\"Optimization Finished!\")\n",
    "\n",
    "    # Test model\n",
    "    # Calculate accuracy\n",
    "    print (\"Accuracy:\", accuracy.eval({x: mnist.test.images, y: mnist.test.labels}))\n",
    "\n",
    "print (\"Done.\")"
   ]
  },
  {
   "cell_type": "code",
   "execution_count": null,
   "metadata": {
    "collapsed": true
   },
   "outputs": [],
   "source": []
  }
 ],
 "metadata": {
  "kernelspec": {
   "display_name": "Python 3",
   "language": "python",
   "name": "python3"
  },
  "language_info": {
   "codemirror_mode": {
    "name": "ipython",
    "version": 3
   },
   "file_extension": ".py",
   "mimetype": "text/x-python",
   "name": "python",
   "nbconvert_exporter": "python",
   "pygments_lexer": "ipython3",
   "version": "3.4.3"
  }
 },
 "nbformat": 4,
 "nbformat_minor": 0
}
